{
 "cells": [
  {
   "cell_type": "code",
   "execution_count": 41,
   "metadata": {},
   "outputs": [],
   "source": [
    "import numpy as np\n",
    "import pygpufit.gpufit as gf\n",
    "import matplotlib.pyplot as plt"
   ]
  },
  {
   "cell_type": "code",
   "execution_count": 42,
   "metadata": {},
   "outputs": [],
   "source": [
    "def generate_gauss_1d(parameters, x):\n",
    "    \"\"\"\n",
    "    Generates a 1D Gaussian curve.\n",
    "\n",
    "    :param parameters: The parameters (a, x0, s, b)\n",
    "    :param x: The x values\n",
    "    :return: A 1D Gaussian curve.\n",
    "    \"\"\"\n",
    "\n",
    "    a = parameters[0]\n",
    "    x0 = parameters[1]\n",
    "    s = parameters[2]\n",
    "    b = parameters[3]\n",
    "\n",
    "    y = a * np.exp(-np.square(x - x0) / (2 * s**2)) + b\n",
    "\n",
    "    return y"
   ]
  },
  {
   "cell_type": "code",
   "execution_count": 43,
   "metadata": {},
   "outputs": [
    {
     "name": "stdout",
     "output_type": "stream",
     "text": [
      "len(constraint_types): 4\n"
     ]
    },
    {
     "ename": "RuntimeError",
     "evalue": "status = -1, message = b'invalid argument'",
     "output_type": "error",
     "traceback": [
      "\u001b[1;31m---------------------------------------------------------------------------\u001b[0m",
      "\u001b[1;31mRuntimeError\u001b[0m                              Traceback (most recent call last)",
      "Cell \u001b[1;32mIn [43], line 53\u001b[0m\n\u001b[0;32m     50\u001b[0m constraints[\u001b[39m1\u001b[39m, :] \u001b[39m=\u001b[39m np\u001b[39m.\u001b[39marray(c2, dtype\u001b[39m=\u001b[39mnp\u001b[39m.\u001b[39mfloat32)\n\u001b[0;32m     52\u001b[0m \u001b[39m#call to gpufit\u001b[39;00m\n\u001b[1;32m---> 53\u001b[0m parameters, states, chi_squares, number_iterations, execution_time \u001b[39m=\u001b[39m gf\u001b[39m.\u001b[39;49mfit_constrained(data, \u001b[39mNone\u001b[39;49;00m, model_id,\n\u001b[0;32m     54\u001b[0m                                                                             initial_parameters, constraints, constraint_types, tolerance, \\\n\u001b[0;32m     55\u001b[0m                                                                             max_n_iterations, \u001b[39mNone\u001b[39;49;00m, \u001b[39mNone\u001b[39;49;00m, \u001b[39mNone\u001b[39;49;00m)\n",
      "File \u001b[1;32mc:\\actions-runner\\_work\\Gpufit-fork\\Gpufit-fork\\.venv\\lib\\site-packages\\pygpufit\\gpufit.py:282\u001b[0m, in \u001b[0;36mfit_constrained\u001b[1;34m(data, weights, model_id, initial_parameters, constraints, constraint_types, tolerance, max_number_iterations, parameters_to_fit, estimator_id, user_info)\u001b[0m\n\u001b[0;32m    279\u001b[0m \u001b[39mif\u001b[39;00m status \u001b[39m!=\u001b[39m Status\u001b[39m.\u001b[39mOk:\n\u001b[0;32m    280\u001b[0m     \u001b[39m# get error from last error and raise runtime error\u001b[39;00m\n\u001b[0;32m    281\u001b[0m     error_message \u001b[39m=\u001b[39m error_func()\n\u001b[1;32m--> 282\u001b[0m     \u001b[39mraise\u001b[39;00m \u001b[39mRuntimeError\u001b[39;00m(\u001b[39m'\u001b[39m\u001b[39mstatus = \u001b[39m\u001b[39m{}\u001b[39;00m\u001b[39m, message = \u001b[39m\u001b[39m{}\u001b[39;00m\u001b[39m'\u001b[39m\u001b[39m.\u001b[39mformat(status, error_message))\n\u001b[0;32m    284\u001b[0m \u001b[39m# return output values\u001b[39;00m\n\u001b[0;32m    285\u001b[0m \u001b[39mreturn\u001b[39;00m parameters, states, chi_squares, number_iterations, t1 \u001b[39m-\u001b[39m t0\n",
      "\u001b[1;31mRuntimeError\u001b[0m: status = -1, message = b'invalid argument'"
     ]
    }
   ],
   "source": [
    "\n",
    "# constants\n",
    "n_fits = 2\n",
    "n_points = 40\n",
    "n_parameter = 4  # model will be GAUSS_1D\n",
    "\n",
    "# true parameters\n",
    "true_parameters = np.array((40, 20, 5, 10), dtype=np.float32)\n",
    "\n",
    "# generate data\n",
    "data = np.empty((n_fits, n_points), dtype=np.float32)\n",
    "\n",
    "x = np.arange(n_points, dtype=np.float32)\n",
    "data[0, :] = generate_gauss_1d(true_parameters, x)\n",
    "data[1, :] = generate_gauss_1d(true_parameters - 2, x)\n",
    "\n",
    "noise = np.random.uniform(low=-1, high=1, size=(n_fits, n_points))\n",
    "\n",
    "data += noise\n",
    "\n",
    "# tolerance\n",
    "tolerance = 0.001\n",
    "\n",
    "# max_n_iterations1\n",
    "max_n_iterations = 100\n",
    "\n",
    "# model id\n",
    "model_id = gf.ModelID.GAUSS_1D\n",
    "\n",
    "# initial parameters\n",
    "initial_parameters = np.empty((n_fits, n_parameter), dtype=np.float32)\n",
    "initial_parameters[0, :] = (30, 15, 30, 7)\n",
    "\n",
    "# # call to gpufit\n",
    "# parameters, states, chi_squares, number_iterations, execution_time = gf.fit(data, None, model_id,\n",
    "#                                                                             initial_parameters, tolerance, \\\n",
    "#                                                                             max_n_iterations, None, None, None)\n",
    "\n",
    "gf.ConstraintType.LOWER_UPPER\n",
    "constraint_types = np.empty((n_parameter), dtype=np.int32)\n",
    "constraint_types[:] = gf.ConstraintType.LOWER_UPPER\n",
    "\n",
    "print(f\"len(constraint_types): {len(constraint_types)}\")\n",
    "\n",
    "constraints = np.empty((n_fits, n_parameter * 2), dtype=np.float32)\n",
    "\n",
    "c1 = (30, 50, 10, 30, 2, 7, 9, 11)\n",
    "c2 = tuple([x - 3 for x in c1])\n",
    "\n",
    "constraints[0, :] = np.array(c1, dtype=np.float32)\n",
    "constraints[1, :] = np.array(c2, dtype=np.float32)\n",
    "\n",
    "#call to gpufit\n",
    "parameters, states, chi_squares, number_iterations, execution_time = gf.fit_constrained(data, None, model_id,\n",
    "                                                                            initial_parameters, constraints, constraint_types, tolerance, \\\n",
    "                                                                            max_n_iterations, None, None, None)\n"
   ]
  },
  {
   "cell_type": "code",
   "execution_count": null,
   "metadata": {},
   "outputs": [
    {
     "ename": "NameError",
     "evalue": "name 'parameters' is not defined",
     "output_type": "error",
     "traceback": [
      "\u001b[1;31m---------------------------------------------------------------------------\u001b[0m",
      "\u001b[1;31mNameError\u001b[0m                                 Traceback (most recent call last)",
      "Cell \u001b[1;32mIn [4], line 2\u001b[0m\n\u001b[0;32m      1\u001b[0m data_measured1 \u001b[39m=\u001b[39m data[\u001b[39m0\u001b[39m]\n\u001b[1;32m----> 2\u001b[0m data_fit1 \u001b[39m=\u001b[39m generate_gauss_1d(parameters[\u001b[39m0\u001b[39m], x)\n\u001b[0;32m      4\u001b[0m data_measured2 \u001b[39m=\u001b[39m data[\u001b[39m1\u001b[39m]\n\u001b[0;32m      5\u001b[0m data_fit2 \u001b[39m=\u001b[39m generate_gauss_1d(parameters[\u001b[39m1\u001b[39m], x)\n",
      "\u001b[1;31mNameError\u001b[0m: name 'parameters' is not defined"
     ]
    }
   ],
   "source": [
    "data_measured1 = data[0]\n",
    "data_fit1 = generate_gauss_1d(parameters[0], x)\n",
    "\n",
    "data_measured2 = data[1]\n",
    "data_fit2 = generate_gauss_1d(parameters[1], x)\n",
    "\n",
    "\n",
    "plt.plot(x, data_measured1, linestyle=\"dotted\", label=\"data\")\n",
    "plt.plot(x, data_fit1, linestyle=\"dashed\", label=\"fit\")\n",
    "plt.plot(x, data_measured2, linestyle=\"dotted\", label=\"data\")\n",
    "plt.plot(x, data_fit2, linestyle=\"dashed\", label=\"fit\")\n"
   ]
  },
  {
   "cell_type": "code",
   "execution_count": null,
   "metadata": {},
   "outputs": [
    {
     "name": "stdout",
     "output_type": "stream",
     "text": [
      "constraints: 30.0 - 50.0   10.0 - 30.0   2.0 - 7.0   9.0 - 11.0   \n",
      "parameters:     39.7          20.0          5.0          9.9          \n",
      "\n",
      "constraints: 27.0 - 47.0   7.0 - 27.0   -1.0 - 4.0   6.0 - 8.0   \n",
      "parameters:     0.0          0.0          0.0          0.0          \n",
      "\n"
     ]
    }
   ],
   "source": [
    "for i in range(n_fits):\n",
    "    # print(f\"len(constraints[i]) % 2: {len(constraints[i]) % 2}\")\n",
    "    print(\"constraints: \", end=\"\")\n",
    "    for x in range(len(constraints[i]) // 2):\n",
    "        print(f\"{constraints[i][x*2]:.1f}\"+\" - \"+f\"{constraints[i][x*2+1]:.1f}   \", end=\"\")\n",
    "    print(\"\")\n",
    "    print(\"parameters:     \", end=\"\")\n",
    "    for y in parameters[i]:\n",
    "        print(f\"{y:.1f}\"+\"          \", end=\"\")\n",
    "    print(\"\")\n",
    "    print(\"\")"
   ]
  }
 ],
 "metadata": {
  "kernelspec": {
   "display_name": "Python 3.9.13 ('.venv': venv)",
   "language": "python",
   "name": "python3"
  },
  "language_info": {
   "codemirror_mode": {
    "name": "ipython",
    "version": 3
   },
   "file_extension": ".py",
   "mimetype": "text/x-python",
   "name": "python",
   "nbconvert_exporter": "python",
   "pygments_lexer": "ipython3",
   "version": "3.9.13"
  },
  "orig_nbformat": 4,
  "vscode": {
   "interpreter": {
    "hash": "51f0595759099ae0d2f30167aaaf3489ae2bca93f4e96d557edbe47e55c9656c"
   }
  }
 },
 "nbformat": 4,
 "nbformat_minor": 2
}
